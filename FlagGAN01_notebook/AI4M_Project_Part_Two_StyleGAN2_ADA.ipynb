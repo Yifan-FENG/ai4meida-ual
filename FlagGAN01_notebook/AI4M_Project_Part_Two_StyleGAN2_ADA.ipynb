{
  "nbformat": 4,
  "nbformat_minor": 0,
  "metadata": {
    "colab": {
      "name": " AI4M - Project: Part Two - StyleGAN2 ADA",
      "provenance": [],
      "collapsed_sections": [
        "DUGiaQHzyJu5",
        "Sd_Tej1ZuRWf"
      ],
      "machine_shape": "hm"
    },
    "kernelspec": {
      "name": "python3",
      "display_name": "Python 3"
    },
    "language_info": {
      "name": "python"
    },
    "accelerator": "GPU"
  },
  "cells": [
    {
      "cell_type": "markdown",
      "source": [
        "# **FlagGAN1 Model continue: StyleGAN2 ADA -based modification**\n",
        "\n",
        "\n",
        "*For full project, please visit [AI4M - Project: Part one](https://colab.research.google.com/drive/1SODRk6670HY4V26Be4_A7YkCHXlSGNnR?usp=sharing)*  \n",
        "\n",
        "*For part two outcome, please visit [AI4M - Project: Part two outcome](https://drive.google.com/drive/folders/1kjYkMsysogk611lZR8jkGb2CWOq9p_mY?usp=sharing)*  \n",
        "\n",
        "\n",
        "Ref:\n",
        "* [Transfer Learning Part 2](https://medium.com/dataswati-garage/transfer-learning-part-2-zero-one-few-shot-learning-8d23d2f8583b)\n",
        "* [This Flag Does Not Exist](https://thisflagdoesnotexist.com/#)\n",
        "* [Derrick Schultz: StyleGAN2 ada tutorial ](https://www.youtube.com/watch?v=KxXqCsl-z2k)\n",
        "\n",
        "  \n",
        "\n",
        "> **This colab is heavily based on [Derrick Schultz: StyleGAN2 ada custom dataset](https://github.com/dvschultz/ml-art-colabs/blob/master/Stylegan2_ada_Custom_Training.ipynb)**  \n",
        "\n",
        "> **[Command line for StyleGAN2 ada](https://laptrinhx.com/stylegan2-with-adaptive-discriminator-augmentation-ada-official-tensorflow-implementation-233593041/)**  \n",
        "\n",
        "\n",
        "\n"
      ],
      "metadata": {
        "id": "6aK4B_LQV9ed"
      }
    },
    {
      "cell_type": "code",
      "source": [
        "# Use this line if current numpy does not support StyleGAN2 ada (downgrade is needed)\n",
        "!pip install numpy==1.19 "
      ],
      "metadata": {
        "id": "VWx_F4ehmA_E",
        "colab": {
          "base_uri": "https://localhost:8080/",
          "height": 382
        },
        "outputId": "e645142a-eb0d-41a9-d828-93a37f343f23"
      },
      "execution_count": 1,
      "outputs": [
        {
          "output_type": "stream",
          "name": "stdout",
          "text": [
            "Collecting numpy==1.19\n",
            "  Downloading numpy-1.19.0-cp37-cp37m-manylinux2010_x86_64.whl (14.6 MB)\n",
            "\u001b[K     |████████████████████████████████| 14.6 MB 3.9 MB/s \n",
            "\u001b[?25hInstalling collected packages: numpy\n",
            "  Attempting uninstall: numpy\n",
            "    Found existing installation: numpy 1.21.5\n",
            "    Uninstalling numpy-1.21.5:\n",
            "      Successfully uninstalled numpy-1.21.5\n",
            "\u001b[31mERROR: pip's dependency resolver does not currently take into account all the packages that are installed. This behaviour is the source of the following dependency conflicts.\n",
            "tensorflow 2.8.0 requires tf-estimator-nightly==2.8.0.dev2021122109, which is not installed.\n",
            "tensorflow 2.8.0 requires numpy>=1.20, but you have numpy 1.19.0 which is incompatible.\n",
            "datascience 0.10.6 requires folium==0.2.1, but you have folium 0.8.3 which is incompatible.\n",
            "albumentations 0.1.12 requires imgaug<0.2.7,>=0.2.5, but you have imgaug 0.2.9 which is incompatible.\u001b[0m\n",
            "Successfully installed numpy-1.19.0\n"
          ]
        },
        {
          "output_type": "display_data",
          "data": {
            "application/vnd.colab-display-data+json": {
              "pip_warning": {
                "packages": [
                  "numpy"
                ]
              }
            }
          },
          "metadata": {}
        }
      ]
    },
    {
      "cell_type": "code",
      "execution_count": 1,
      "metadata": {
        "id": "d__xASJwokTq",
        "colab": {
          "base_uri": "https://localhost:8080/"
        },
        "outputId": "8903062c-d77d-41b1-8b49-4bd78dc93688"
      },
      "outputs": [
        {
          "output_type": "stream",
          "name": "stdout",
          "text": [
            "Mounted at /content/drive\n"
          ]
        }
      ],
      "source": [
        "#access and store result \n",
        "from google.colab import drive\n",
        "drive.mount('/content/drive')"
      ]
    },
    {
      "cell_type": "markdown",
      "source": [
        "### Install StyleGAN2 ada from server"
      ],
      "metadata": {
        "id": "DZzZG94-zovE"
      }
    },
    {
      "cell_type": "code",
      "source": [
        "# select tf 1.x version\n",
        "%tensorflow_version 1.x\n",
        "import tensorflow as tf\n",
        "import os \n",
        "from os import mkdir"
      ],
      "metadata": {
        "id": "_GfDLKXElMwF",
        "colab": {
          "base_uri": "https://localhost:8080/"
        },
        "outputId": "6bc85684-759d-4159-9196-a3e11e95e4bf"
      },
      "execution_count": 2,
      "outputs": [
        {
          "output_type": "stream",
          "name": "stdout",
          "text": [
            "TensorFlow 1.x selected.\n"
          ]
        }
      ]
    },
    {
      "cell_type": "code",
      "source": [
        "if os.path.isdir(\"/content/drive/MyDrive/colab-sg2-ada\"):\n",
        "    %cd \"/content/drive/MyDrive/colab-sg2-ada/stylegan2-ada\"\n",
        "else:\n",
        "    #Download the code \n",
        "    %cd \"/content/drive/MyDrive/\"\n",
        "    !mkdir colab-sg2-ada\n",
        "    %cd colab-sg2-ada\n",
        "    !git clone https://github.com/dvschultz/stylegan2-ada\n",
        "    %cd stylegan2-ada\n",
        "    !mkdir downloads\n",
        "    !mkdir datasets"
      ],
      "metadata": {
        "colab": {
          "base_uri": "https://localhost:8080/"
        },
        "id": "HQDxeotAJM3k",
        "outputId": "c70751aa-d5cf-4e42-e8fb-9a1baee756d3"
      },
      "execution_count": 3,
      "outputs": [
        {
          "output_type": "stream",
          "name": "stdout",
          "text": [
            "/content/drive/MyDrive\n",
            "/content/drive/MyDrive/colab-sg2-ada\n",
            "Cloning into 'stylegan2-ada'...\n",
            "remote: Enumerating objects: 364, done.\u001b[K\n",
            "remote: Total 364 (delta 0), reused 0 (delta 0), pack-reused 364\u001b[K\n",
            "Receiving objects: 100% (364/364), 56.17 MiB | 14.00 MiB/s, done.\n",
            "Resolving deltas: 100% (197/197), done.\n",
            "/content/drive/MyDrive/colab-sg2-ada/stylegan2-ada\n"
          ]
        }
      ]
    },
    {
      "cell_type": "code",
      "source": [
        "%cd \"/content/drive/MyDrive/colab-sg2-ada/stylegan2-ada\"\n",
        "!git config --global user.name \"test\"\n",
        "!git config --global user.email \"test@test.com\"\n",
        "!git fetch origin\n",
        "!git checkout origin/main -- train.py"
      ],
      "metadata": {
        "id": "MkltDW3Aj7kg",
        "colab": {
          "base_uri": "https://localhost:8080/"
        },
        "outputId": "4cec7d1a-1ef3-480f-c677-bffa72f52943"
      },
      "execution_count": null,
      "outputs": [
        {
          "output_type": "stream",
          "name": "stdout",
          "text": [
            "/content/drive/MyDrive/colab-sg2-ada/stylegan2-ada\n"
          ]
        }
      ]
    },
    {
      "cell_type": "markdown",
      "source": [
        "####Delete non-image file in the dataset and transform dataset to tf.records"
      ],
      "metadata": {
        "id": "kxv-0PtPkjQ5"
      }
    },
    {
      "cell_type": "code",
      "source": [
        "dataset = \"/content/drive/MyDrive/output/dcgan1000\"\n",
        "dataset_name = \"flagGAN_test01\""
      ],
      "metadata": {
        "id": "hUyDRJLOF2OM"
      },
      "execution_count": 4,
      "outputs": []
    },
    {
      "cell_type": "code",
      "source": [
        "from fastai.vision import verify_images\n",
        "verify_images(dataset, delete=True)\n",
        "from PIL import Image\n",
        "from tqdm import tqdm\n",
        "import shutil"
      ],
      "metadata": {
        "id": "9u0yT6ce4Mll",
        "colab": {
          "base_uri": "https://localhost:8080/",
          "height": 17
        },
        "outputId": "772d8265-2924-4823-d847-19006c442faf"
      },
      "execution_count": 5,
      "outputs": [
        {
          "output_type": "display_data",
          "data": {
            "text/plain": [
              "<IPython.core.display.HTML object>"
            ],
            "text/html": [
              "\n",
              "<style>\n",
              "    /* Turns off some styling */\n",
              "    progress {\n",
              "        /* gets rid of default border in Firefox and Opera. */\n",
              "        border: none;\n",
              "        /* Needs to be in here for Safari polyfill so background images work as expected. */\n",
              "        background-size: auto;\n",
              "    }\n",
              "    .progress-bar-interrupted, .progress-bar-interrupted::-webkit-progress-bar {\n",
              "        background: #F44336;\n",
              "    }\n",
              "</style>\n"
            ]
          },
          "metadata": {}
        },
        {
          "output_type": "display_data",
          "data": {
            "text/plain": [
              "<IPython.core.display.HTML object>"
            ],
            "text/html": [
              ""
            ]
          },
          "metadata": {}
        }
      ]
    },
    {
      "cell_type": "code",
      "source": [
        "# create .tfrecords file from input pathway\n",
        "!python dataset_tool.py create_from_images ./datasets/{dataset_name} {dataset}"
      ],
      "metadata": {
        "colab": {
          "base_uri": "https://localhost:8080/"
        },
        "id": "V_VpsMF8Gnbi",
        "outputId": "020f11f2-b4b9-4102-db49-5ccd09a18bca"
      },
      "execution_count": 6,
      "outputs": [
        {
          "output_type": "stream",
          "name": "stdout",
          "text": [
            "Loading images from \"/content/drive/MyDrive/output/dcgan1000\"\n",
            "Creating dataset \"./datasets/flagGAN_test01\"\n",
            "0 / 1008\rdataset_tool.py:97: DeprecationWarning: tostring() is deprecated. Use tobytes() instead.\n",
            "  'data': tf.train.Feature(bytes_list=tf.train.BytesList(value=[quant.tostring()]))}))\n",
            "Added 1008 images.\n"
          ]
        }
      ]
    },
    {
      "cell_type": "markdown",
      "source": [
        "## Training a custom model with dataset"
      ],
      "metadata": {
        "id": "OEKaqc-WliaC"
      }
    },
    {
      "cell_type": "markdown",
      "source": [
        "### Preparation for Transfer Learning\n",
        "\n",
        "\n",
        "\n",
        "* download pretrained model weight\n",
        "* customize based on input image size\n",
        "\n",
        "\n",
        "\n",
        "Reference: \n",
        "> [Harnick Khera Public Notebook](https://github.com/Hephyrius/Stylegan2-Ada-Google-Colab-Starter-Notebook)\n",
        "\n",
        "> [Nivida Transfer Learning resource for StyleGAN 2 ADA](https://nvlabs-fi-cdn.nvidia.com/stylegan2-ada/pretrained/transfer-learning-source-nets/)\n",
        "\n"
      ],
      "metadata": {
        "id": "DUGiaQHzyJu5"
      }
    },
    {
      "cell_type": "code",
      "source": [
        "\"\"\"\n",
        "#copy and download pretrained model weight \n",
        "!wget http://d36zk2xti64re0.cloudfront.net/stylegan2/networks/stylegan2-horse-config-f.pkl\n",
        "\n",
        "\n",
        "!git clone https://github.com/aydao/stylegan2-surgery.git\n",
        "%cd stylegan2-surgery\n",
        "!python create_initial_network_pkl.py --width 256 --height 256\n",
        "!python copy_weights.py /content/stylegan2-ffhq-config-f.pkl /content/stylegan2-surgery/network-initial-config-f-256x256-0.pkl --output_pkl /content/surgery_output.pkl\n",
        "\n",
        "\"\"\""
      ],
      "metadata": {
        "id": "FACAG0ez5u0w",
        "colab": {
          "base_uri": "https://localhost:8080/"
        },
        "outputId": "c6f9ab2b-256a-469a-9774-0d35ff1444b0"
      },
      "execution_count": null,
      "outputs": [
        {
          "output_type": "stream",
          "name": "stdout",
          "text": [
            "--2022-03-14 16:12:22--  http://d36zk2xti64re0.cloudfront.net/stylegan2/networks/stylegan2-horse-config-f.pkl\n",
            "Resolving d36zk2xti64re0.cloudfront.net (d36zk2xti64re0.cloudfront.net)... 52.222.196.222, 52.222.196.164, 52.222.196.42, ...\n",
            "Connecting to d36zk2xti64re0.cloudfront.net (d36zk2xti64re0.cloudfront.net)|52.222.196.222|:80... connected.\n",
            "HTTP request sent, awaiting response... 200 OK\n",
            "Length: 357418027 (341M) [application/x-www-form-urlencoded]\n",
            "Saving to: ‘stylegan2-horse-config-f.pkl.3’\n",
            "\n",
            "stylegan2-horse-con 100%[===================>] 340.86M   157MB/s    in 2.2s    \n",
            "\n",
            "2022-03-14 16:12:25 (157 MB/s) - ‘stylegan2-horse-config-f.pkl.3’ saved [357418027/357418027]\n",
            "\n"
          ]
        }
      ]
    },
    {
      "cell_type": "markdown",
      "source": [
        "### Check what parameters and argus can be modified in pre-trained model"
      ],
      "metadata": {
        "id": "kXKe-f5Ulpoh"
      }
    },
    {
      "cell_type": "code",
      "source": [
        "%cd \"/content/drive/MyDrive/colab-sg2-ada/stylegan2-ada\" "
      ],
      "metadata": {
        "colab": {
          "base_uri": "https://localhost:8080/"
        },
        "id": "_q4coi-wv-mb",
        "outputId": "fac32165-5f6d-4a84-fcb1-ef81ad9805b7"
      },
      "execution_count": 7,
      "outputs": [
        {
          "output_type": "stream",
          "name": "stdout",
          "text": [
            "/content/drive/MyDrive/colab-sg2-ada/stylegan2-ada\n"
          ]
        }
      ]
    },
    {
      "cell_type": "code",
      "source": [
        "!python train.py --help "
      ],
      "metadata": {
        "id": "NTjWKYxdlw09",
        "colab": {
          "base_uri": "https://localhost:8080/"
        },
        "outputId": "12e2cdb8-9ee3-418b-b2cb-02d137f5899d"
      },
      "execution_count": 8,
      "outputs": [
        {
          "output_type": "stream",
          "name": "stdout",
          "text": [
            "usage: train.py [-h] --outdir DIR [--gpus INT] [--snap INT] [--seed INT] [-n]\n",
            "                --data PATH [--res INT] [--mirror BOOL] [--mirrory BOOL]\n",
            "                [--use-raw BOOL] [--metrics LIST] [--metricdata PATH]\n",
            "                [--cfg {auto,11gb-gpu,11gb-gpu-complex,24gb-gpu,24gb-gpu-complex,48gb-gpu,48gb-2gpu,stylegan2,paper256,paper512,paper1024,cifar,cifarbaseline,aydao}]\n",
            "                [--lrate FLOAT] [--ttur BOOL] [--gamma FLOAT] [--nkimg INT]\n",
            "                [--kimg INT] [--topk FLOAT] [--aug {noaug,ada,fixed,adarv}]\n",
            "                [--p FLOAT] [--target TARGET] [--initstrength INITSTRENGTH]\n",
            "                [--augpipe {blit,geom,color,filter,noise,cutout,bg,bgc,bgcf,bgcfn,bgcfnc}]\n",
            "                [--cmethod {nocmethod,bcr,zcr,pagan,wgangp,auxrot,spectralnorm,shallowmap,adropout}]\n",
            "                [--dcap FLOAT] [--resume RESUME] [--freezed INT]\n",
            "\n",
            "Train a GAN using the techniques described in the paper\n",
            "\"Training Generative Adversarial Networks with Limited Data\".\n",
            "\n",
            "optional arguments:\n",
            "  -h, --help            show this help message and exit\n",
            "\n",
            "general options:\n",
            "  --outdir DIR          Where to save the results (required)\n",
            "  --gpus INT            Number of GPUs to use (default: 1 gpu)\n",
            "  --snap INT            Snapshot interval (default: 50 ticks)\n",
            "  --seed INT            Random seed (default: 1000)\n",
            "  -n, --dry-run         Print training options and exit\n",
            "\n",
            "training dataset:\n",
            "  --data PATH           Training dataset path (required)\n",
            "  --res INT             Dataset resolution (default: highest available)\n",
            "  --mirror BOOL         Augment dataset with x-flips (default: false)\n",
            "  --mirrory BOOL        Augment dataset with y-flips (default: false)\n",
            "  --use-raw BOOL        Use raw image dataset, i.e. created from\n",
            "                        create_from_images_raw (default: False)\n",
            "\n",
            "metrics:\n",
            "  --metrics LIST        Comma-separated list or \"none\" (default: fid50k_full)\n",
            "  --metricdata PATH     Dataset to evaluate metrics against (optional)\n",
            "\n",
            "base config:\n",
            "  --cfg {auto,11gb-gpu,11gb-gpu-complex,24gb-gpu,24gb-gpu-complex,48gb-gpu,48gb-2gpu,stylegan2,paper256,paper512,paper1024,cifar,cifarbaseline,aydao}\n",
            "                        Base config (default: auto)\n",
            "  --lrate FLOAT         Override learning rate\n",
            "  --ttur BOOL           Use Two Time-Scale Update Rule (double learning rate\n",
            "                        for discriminator) (default: false)\n",
            "  --gamma FLOAT         Override R1 gamma\n",
            "  --nkimg INT           Override starting count\n",
            "  --kimg INT            Override training duration\n",
            "  --topk FLOAT          utilize top-k training\n",
            "\n",
            "discriminator augmentation:\n",
            "  --aug {noaug,ada,fixed,adarv}\n",
            "                        Augmentation mode (default: ada)\n",
            "  --p FLOAT             Specify augmentation probability for --aug=fixed\n",
            "  --target TARGET       Override ADA target for --aug=ada and --aug=adarv\n",
            "  --initstrength INITSTRENGTH\n",
            "                        Override ADA strength at start\n",
            "  --augpipe {blit,geom,color,filter,noise,cutout,bg,bgc,bgcf,bgcfn,bgcfnc}\n",
            "                        Augmentation pipeline (default: bgc)\n",
            "\n",
            "comparison methods:\n",
            "  --cmethod {nocmethod,bcr,zcr,pagan,wgangp,auxrot,spectralnorm,shallowmap,adropout}\n",
            "                        Comparison method (default: nocmethod)\n",
            "  --dcap FLOAT          Multiplier for discriminator capacity\n",
            "\n",
            "transfer learning:\n",
            "  --resume RESUME       Resume from network pickle (default: noresume)\n",
            "  --freezed INT         Freeze-D (default: 0 discriminator layers)\n",
            "\n",
            "examples:\n",
            "\n",
            "  # Train custom dataset using 1 GPU.\n",
            "  python train.py --outdir=~/training-runs --gpus=1 --data=~/datasets/custom\n",
            "\n",
            "  # Train class-conditional CIFAR-10 using 2 GPUs.\n",
            "  python train.py --outdir=~/training-runs --gpus=2 --data=~/datasets/cifar10c \\\n",
            "      --cfg=cifar\n",
            "\n",
            "  # Transfer learn MetFaces from FFHQ using 4 GPUs.\n",
            "  python train.py --outdir=~/training-runs --gpus=4 --data=~/datasets/metfaces \\\n",
            "      --cfg=paper1024 --mirror=1 --resume=ffhq1024 --snap=10\n",
            "\n",
            "  # Reproduce original StyleGAN2 config F.\n",
            "  python train.py --outdir=~/training-runs --gpus=8 --data=~/datasets/ffhq \\\n",
            "      --cfg=stylegan2 --res=1024 --mirror=1 --aug=noaug\n",
            "\n",
            "available base configs (--cfg):\n",
            "  auto           Automatically select reasonable defaults based on resolution\n",
            "                 and GPU count. Good starting point for new datasets.\n",
            "  stylegan2      Reproduce results for StyleGAN2 config F at 1024x1024.\n",
            "  paper256       Reproduce results for FFHQ and LSUN Cat at 256x256.\n",
            "  paper512       Reproduce results for BreCaHAD and AFHQ at 512x512.\n",
            "  paper1024      Reproduce results for MetFaces at 1024x1024.\n",
            "  cifar          Reproduce results for CIFAR-10 (tuned configuration).\n",
            "  cifarbaseline  Reproduce results for CIFAR-10 (baseline configuration).\n",
            "\n",
            "transfer learning source networks (--resume):\n",
            "  ffhq256        FFHQ trained at 256x256 resolution.\n",
            "  ffhq512        FFHQ trained at 512x512 resolution.\n",
            "  ffhq1024       FFHQ trained at 1024x1024 resolution.\n",
            "  celebahq256    CelebA-HQ trained at 256x256 resolution.\n",
            "  lsundog256     LSUN Dog trained at 256x256 resolution.\n",
            "  afhqcat512     AFHQ Cat trained at 512x512 resolution.\n",
            "  afhqdog512     AFHQ Dog trained at 512x512 resolution.\n",
            "  afhqwild512    AFHQ Wild trained at 512x512 resolution.\n",
            "  brecahad512    BreCaHAD trained at 512x512 resolution.\n",
            "  cifar10        CIFAR10 trained at 32x32 resolution.\n",
            "  metfaces512    MetFaces trained at 512x512 resolution.\n",
            "  <path or URL>  Custom network pickle.\n"
          ]
        }
      ]
    },
    {
      "cell_type": "markdown",
      "source": [
        "**Set up new args and parameters for training**\n",
        "\n",
        "\n",
        "* dataset_name should be exactly the same \n",
        "* the frequency of generating samples and checkpoint .pkl file should consider 2,4,8 based on GPU status \n",
        "\n",
        "\n"
      ],
      "metadata": {
        "id": "m0TRDwTbmb21"
      }
    },
    {
      "cell_type": "code",
      "source": [
        "dataset_name = \"flagGAN_test01\"\n",
        "snapshot_count = 2\n",
        "mirrored = True #left and right mirrored \n",
        "mirroredY = True #top and bottom mirrored \n",
        "metric_list = None #Paper recommends \"Kid50k_full\" \n",
        "cfg = \"11gb-gpu\"\n",
        "\n",
        "#argumentation fine-tuning\n",
        "augs = \"bg\" #argumentation: blit, geom, color, filter, noise, cutout\n",
        "\n",
        "\n",
        "# TRANSFER LEARNING \n",
        "\"\"\"\n",
        "1. for first time running, set ffhq(+resolution): 256, 512, 1024\n",
        "2. for resuming and using checkpoint .pkl file, set the path to the lastest file \n",
        "3. this is the third training as the second runtime was disconnected after 2.5 hours (see report)\n",
        "\"\"\"\n",
        "\n",
        "#resume from first testrun, as the result meets the expectation\n",
        "resume_from = \"/content/drive/MyDrive/colab-sg2-ada/stylegan2-ada/results/00000-flagGAN_test01-mirror-mirrory-11gb-gpu-bg-resumecustom/network-snapshot-000048.pkl\"  \n",
        "#freezed = None #freeze discrminator layers, default is 0"
      ],
      "metadata": {
        "id": "PXYcEGMZm4HO"
      },
      "execution_count": 11,
      "outputs": []
    },
    {
      "cell_type": "markdown",
      "source": [
        "**Training Command** \n",
        "\n",
        "\n",
        "* ~ 12-15 min per tick\n",
        "* default 50 ticks\n",
        "* First test run takes approx. 8.5 hours\n",
        "* Second test run takes approx. 2.5 hours\n",
        "* Third test run takes approx. 2.2 hours \n",
        "* Fourth test run takes approx. 8.2 hours in two times \n",
        "\n",
        "\n",
        "\n",
        "> ***Second testrun shows a hint of [mode collapse](https://machinelearning.wtf/terms/mode-collapse/)***\n",
        "\n",
        "\n",
        "\n",
        "\n",
        "\n",
        "\n",
        "\n"
      ],
      "metadata": {
        "id": "RqXCb7BRnsXQ"
      }
    },
    {
      "cell_type": "code",
      "source": [
        "!python train.py --outdir ./results --snap={snapshot_count} --cfg={cfg} --data=./datasets/{dataset_name} --augpipe={augs} --mirror={mirrored} --mirrory={mirroredY} --metrics={metric_list} --resume={resume_from} "
      ],
      "metadata": {
        "id": "Skp9HzdQnoWu",
        "colab": {
          "base_uri": "https://localhost:8080/"
        },
        "outputId": "9d127c40-d44f-451d-8c7d-7333270fa42b"
      },
      "execution_count": null,
      "outputs": [
        {
          "output_type": "stream",
          "name": "stdout",
          "text": [
            "tcmalloc: large alloc 4294967296 bytes == 0x55fa1669c000 @  0x7f52ad8b4001 0x7f52aaab767f 0x7f52aab07978 0x7f52aab0b9a7 0x7f52aaba9fd3 0x55fa0fe02424 0x55fa0fe02120 0x55fa0fe76b80 0x55fa0fe7166e 0x55fa0fe0436c 0x55fa0fe457b9 0x55fa0fe426d4 0x55fa0fe02c29 0x55fa0fe76e61 0x55fa0fe7102f 0x55fa0fd42e2b 0x55fa0fe73633 0x55fa0fe7102f 0x55fa0fd42e2b 0x55fa0fe73633 0x55fa0fe7166e 0x55fa0fd42e2b 0x55fa0fe73633 0x55fa0fe039da 0x55fa0fe71eae 0x55fa0fe7102f 0x55fa0fe70d43 0x55fa0ff3b302 0x55fa0ff3b67d 0x55fa0ff3b526 0x55fa0ff131d3\n",
            "tcmalloc: large alloc 4294967296 bytes == 0x55fb1669c000 @  0x7f52ad8b21e7 0x7f52aaab759e 0x7f52aab07a9b 0x7f52aab0817f 0x7f52aaba9ed3 0x55fa0fe02424 0x55fa0fe02120 0x55fa0fe76b80 0x55fa0fe7102f 0x55fa0fe03aba 0x55fa0fe72cd4 0x55fa0fe7102f 0x55fa0fe03aba 0x55fa0fe72cd4 0x55fa0fe7102f 0x55fa0fe03aba 0x55fa0fe72cd4 0x55fa0fe039da 0x55fa0fe71eae 0x55fa0fe7102f 0x55fa0fe03aba 0x55fa0fe762c0 0x55fa0fe7102f 0x55fa0fe03aba 0x55fa0fe72cd4 0x55fa0fe7166e 0x55fa0fe0436c 0x55fa0fe457b9 0x55fa0fe426d4 0x55fa0fe02c29 0x55fa0fe76e61\n",
            "tcmalloc: large alloc 4294967296 bytes == 0x55fc17738000 @  0x7f52ad8b21e7 0x7f52aaab759e 0x7f52aab07a9b 0x7f52aab0817f 0x7f52685f4235 0x7f5267f77792 0x7f5267f77d42 0x7f5267f30aee 0x55fa0fe02317 0x55fa0fe02120 0x55fa0fe76679 0x55fa0fe039da 0x55fa0fe72108 0x55fa0fe711c0 0x55fa0fd42eb0 0x55fa0fe73633 0x55fa0fe7102f 0x55fa0fe03aba 0x55fa0fe72108 0x55fa0fe7166e 0x55fa0fe03aba 0x55fa0fe72108 0x55fa0fe039da 0x55fa0fe72108 0x55fa0fe7102f 0x55fa0fe04151 0x55fa0fe04571 0x55fa0fe73633 0x55fa0fe7102f 0x55fa0fe03aba 0x55fa0fe71eae\n",
            "\n",
            "Training options:\n",
            "{\n",
            "  \"G_args\": {\n",
            "    \"func_name\": \"training.networks.G_main\",\n",
            "    \"fmap_base\": 16384,\n",
            "    \"fmap_max\": 512,\n",
            "    \"mapping_layers\": 8,\n",
            "    \"num_fp16_res\": 4,\n",
            "    \"conv_clamp\": 256\n",
            "  },\n",
            "  \"D_args\": {\n",
            "    \"func_name\": \"training.networks.D_main\",\n",
            "    \"mbstd_group_size\": 4,\n",
            "    \"fmap_base\": 16384,\n",
            "    \"fmap_max\": 512,\n",
            "    \"num_fp16_res\": 4,\n",
            "    \"conv_clamp\": 256\n",
            "  },\n",
            "  \"G_opt_args\": {\n",
            "    \"beta1\": 0.0,\n",
            "    \"beta2\": 0.99,\n",
            "    \"learning_rate\": 0.002\n",
            "  },\n",
            "  \"D_opt_args\": {\n",
            "    \"beta1\": 0.0,\n",
            "    \"beta2\": 0.99,\n",
            "    \"learning_rate\": 0.002\n",
            "  },\n",
            "  \"loss_args\": {\n",
            "    \"func_name\": \"training.loss.stylegan2\",\n",
            "    \"r1_gamma\": 10\n",
            "  },\n",
            "  \"augment_args\": {\n",
            "    \"class_name\": \"training.augment.AdaptiveAugment\",\n",
            "    \"tune_heuristic\": \"rt\",\n",
            "    \"tune_target\": 0.6,\n",
            "    \"apply_func\": \"training.augment.augment_pipeline\",\n",
            "    \"apply_args\": {\n",
            "      \"xflip\": 1,\n",
            "      \"rotate90\": 1,\n",
            "      \"xint\": 1,\n",
            "      \"scale\": 1,\n",
            "      \"rotate\": 1,\n",
            "      \"aniso\": 1,\n",
            "      \"xfrac\": 1\n",
            "    },\n",
            "    \"tune_kimg\": 100\n",
            "  },\n",
            "  \"num_gpus\": 1,\n",
            "  \"image_snapshot_ticks\": 2,\n",
            "  \"network_snapshot_ticks\": 2,\n",
            "  \"train_dataset_args\": {\n",
            "    \"path\": \"./datasets/flagGAN_test01\",\n",
            "    \"max_label_size\": 0,\n",
            "    \"use_raw\": false,\n",
            "    \"resolution\": 256,\n",
            "    \"mirror_augment\": true,\n",
            "    \"mirror_augment_v\": true\n",
            "  },\n",
            "  \"metric_arg_list\": [],\n",
            "  \"metric_dataset_args\": {\n",
            "    \"path\": \"./datasets/flagGAN_test01\",\n",
            "    \"max_label_size\": 0,\n",
            "    \"use_raw\": false,\n",
            "    \"resolution\": 256,\n",
            "    \"mirror_augment\": true,\n",
            "    \"mirror_augment_v\": true\n",
            "  },\n",
            "  \"total_kimg\": 25000,\n",
            "  \"minibatch_size\": 4,\n",
            "  \"minibatch_gpu\": 4,\n",
            "  \"G_smoothing_kimg\": 10,\n",
            "  \"G_smoothing_rampup\": null,\n",
            "  \"resume_pkl\": \"/content/drive/MyDrive/colab-sg2-ada/stylegan2-ada/results/00000-flagGAN_test01-mirror-mirrory-11gb-gpu-bg-resumecustom/network-snapshot-000048.pkl\",\n",
            "  \"run_dir\": \"./results/00001-flagGAN_test01-mirror-mirrory-11gb-gpu-bg-resumecustom\"\n",
            "}\n",
            "\n",
            "Output directory:  ./results/00001-flagGAN_test01-mirror-mirrory-11gb-gpu-bg-resumecustom\n",
            "Training data:     ./datasets/flagGAN_test01\n",
            "Training length:   25000 kimg\n",
            "Resolution:        256\n",
            "Number of GPUs:    1\n",
            "\n",
            "Creating output directory...\n",
            "Loading training set...\n",
            "tcmalloc: large alloc 4294967296 bytes == 0x55fa1669c000 @  0x7f52ad8b4001 0x7f52aaab767f 0x7f52aab07978 0x7f52aab0b9a7 0x7f52aaba9fd3 0x55fa0fe02424 0x55fa0fe02120 0x55fa0fe76b80 0x55fa0fe7166e 0x55fa0fe0436c 0x55fa0fe457b9 0x55fa0fe426d4 0x55fa0fe02c29 0x55fa0fe76e61 0x55fa0fe7102f 0x55fa0fd42e2b 0x55fa0fe73633 0x55fa0fe7102f 0x55fa0fd42e2b 0x55fa0fe73633 0x55fa0fe7166e 0x55fa0fd42e2b 0x55fa0fe73633 0x55fa0fe039da 0x55fa0fe71eae 0x55fa0fe7102f 0x55fa0fe70d43 0x55fa0ff3b302 0x55fa0ff3b67d 0x55fa0ff3b526 0x55fa0ff131d3\n",
            "tcmalloc: large alloc 4294967296 bytes == 0x55fd17738000 @  0x7f52ad8b21e7 0x7f52aaab759e 0x7f52aab07a9b 0x7f52aab0817f 0x7f52aaba9ed3 0x55fa0fe02424 0x55fa0fe02120 0x55fa0fe76b80 0x55fa0fe7102f 0x55fa0fe03aba 0x55fa0fe72cd4 0x55fa0fe7102f 0x55fa0fe03aba 0x55fa0fe72cd4 0x55fa0fe7102f 0x55fa0fe03aba 0x55fa0fe72cd4 0x55fa0fe039da 0x55fa0fe71eae 0x55fa0fe7102f 0x55fa0fe03aba 0x55fa0fe762c0 0x55fa0fe7102f 0x55fa0fe03aba 0x55fa0fe72cd4 0x55fa0fe7166e 0x55fa0fe0436c 0x55fa0fe457b9 0x55fa0fe426d4 0x55fa0fe02c29 0x55fa0fe76e61\n",
            "tcmalloc: large alloc 4294967296 bytes == 0x55fd17738000 @  0x7f52ad8b21e7 0x7f52aaab759e 0x7f52aab07a9b 0x7f52aab0817f 0x7f52685f4235 0x7f5267f77792 0x7f5267f77d42 0x7f5267f30aee 0x55fa0fe02317 0x55fa0fe02120 0x55fa0fe76679 0x55fa0fe039da 0x55fa0fe72108 0x55fa0fe711c0 0x55fa0fd42eb0 0x55fa0fe73633 0x55fa0fe7102f 0x55fa0fe03aba 0x55fa0fe72108 0x55fa0fe7166e 0x55fa0fe03aba 0x55fa0fe72108 0x55fa0fe039da 0x55fa0fe72108 0x55fa0fe7102f 0x55fa0fe04151 0x55fa0fe04571 0x55fa0fe73633 0x55fa0fe7102f 0x55fa0fe03aba 0x55fa0fe71eae\n",
            "Image shape: [3, 256, 256]\n",
            "Label shape: [0]\n",
            "\n",
            "Constructing networks...\n",
            "Setting up TensorFlow plugin \"fused_bias_act.cu\": Loading... Done.\n",
            "Setting up TensorFlow plugin \"upfirdn_2d.cu\": Loading... Done.\n",
            "Resuming from \"/content/drive/MyDrive/colab-sg2-ada/stylegan2-ada/results/00000-flagGAN_test01-mirror-mirrory-11gb-gpu-bg-resumecustom/network-snapshot-000048.pkl\"\n",
            "\n",
            "G                             Params    OutputShape         WeightShape     \n",
            "---                           ---       ---                 ---             \n",
            "latents_in                    -         (?, 512)            -               \n",
            "labels_in                     -         (?, 0)              -               \n",
            "epochs                        1         ()                  ()              \n",
            "epochs_1                      1         ()                  ()              \n",
            "G_mapping/Normalize           -         (?, 512)            -               \n",
            "G_mapping/Dense0              262656    (?, 512)            (512, 512)      \n",
            "G_mapping/Dense1              262656    (?, 512)            (512, 512)      \n",
            "G_mapping/Dense2              262656    (?, 512)            (512, 512)      \n",
            "G_mapping/Dense3              262656    (?, 512)            (512, 512)      \n",
            "G_mapping/Dense4              262656    (?, 512)            (512, 512)      \n",
            "G_mapping/Dense5              262656    (?, 512)            (512, 512)      \n",
            "G_mapping/Dense6              262656    (?, 512)            (512, 512)      \n",
            "G_mapping/Dense7              262656    (?, 512)            (512, 512)      \n",
            "G_mapping/Broadcast           -         (?, 14, 512)        -               \n",
            "dlatent_avg                   -         (512,)              -               \n",
            "Truncation/Lerp               -         (?, 14, 512)        -               \n",
            "G_synthesis/4x4/Const         8192      (?, 512, 4, 4)      (1, 512, 4, 4)  \n",
            "G_synthesis/4x4/Conv          2622465   (?, 512, 4, 4)      (3, 3, 512, 512)\n",
            "G_synthesis/4x4/ToRGB         264195    (?, 3, 4, 4)        (1, 1, 512, 3)  \n",
            "G_synthesis/8x8/Conv0_up      2622465   (?, 512, 8, 8)      (3, 3, 512, 512)\n",
            "G_synthesis/8x8/Conv1         2622465   (?, 512, 8, 8)      (3, 3, 512, 512)\n",
            "G_synthesis/8x8/Upsample      -         (?, 3, 8, 8)        -               \n",
            "G_synthesis/8x8/ToRGB         264195    (?, 3, 8, 8)        (1, 1, 512, 3)  \n",
            "G_synthesis/16x16/Conv0_up    2622465   (?, 512, 16, 16)    (3, 3, 512, 512)\n",
            "G_synthesis/16x16/Conv1       2622465   (?, 512, 16, 16)    (3, 3, 512, 512)\n",
            "G_synthesis/16x16/Upsample    -         (?, 3, 16, 16)      -               \n",
            "G_synthesis/16x16/ToRGB       264195    (?, 3, 16, 16)      (1, 1, 512, 3)  \n",
            "G_synthesis/32x32/Conv0_up    2622465   (?, 512, 32, 32)    (3, 3, 512, 512)\n",
            "G_synthesis/32x32/Conv1       2622465   (?, 512, 32, 32)    (3, 3, 512, 512)\n",
            "G_synthesis/32x32/Upsample    -         (?, 3, 32, 32)      -               \n",
            "G_synthesis/32x32/ToRGB       264195    (?, 3, 32, 32)      (1, 1, 512, 3)  \n",
            "G_synthesis/64x64/Conv0_up    2622465   (?, 512, 64, 64)    (3, 3, 512, 512)\n",
            "G_synthesis/64x64/Conv1       2622465   (?, 512, 64, 64)    (3, 3, 512, 512)\n",
            "G_synthesis/64x64/Upsample    -         (?, 3, 64, 64)      -               \n",
            "G_synthesis/64x64/ToRGB       264195    (?, 3, 64, 64)      (1, 1, 512, 3)  \n",
            "G_synthesis/128x128/Conv0_up  1442561   (?, 256, 128, 128)  (3, 3, 512, 256)\n",
            "G_synthesis/128x128/Conv1     721409    (?, 256, 128, 128)  (3, 3, 256, 256)\n",
            "G_synthesis/128x128/Upsample  -         (?, 3, 128, 128)    -               \n",
            "G_synthesis/128x128/ToRGB     132099    (?, 3, 128, 128)    (1, 1, 256, 3)  \n",
            "G_synthesis/256x256/Conv0_up  426369    (?, 128, 256, 256)  (3, 3, 256, 128)\n",
            "G_synthesis/256x256/Conv1     213249    (?, 128, 256, 256)  (3, 3, 128, 128)\n",
            "G_synthesis/256x256/Upsample  -         (?, 3, 256, 256)    -               \n",
            "G_synthesis/256x256/ToRGB     66051     (?, 3, 256, 256)    (1, 1, 128, 3)  \n",
            "---                           ---       ---                 ---             \n",
            "Total                         30034340                                      \n",
            "\n",
            "\n",
            "D                    Params    OutputShape         WeightShape     \n",
            "---                  ---       ---                 ---             \n",
            "images_in            -         (?, 3, 256, 256)    -               \n",
            "labels_in            -         (?, 0)              -               \n",
            "256x256/FromRGB      512       (?, 128, 256, 256)  (1, 1, 3, 128)  \n",
            "256x256/Conv0        147584    (?, 128, 256, 256)  (3, 3, 128, 128)\n",
            "256x256/Conv1_down   295168    (?, 256, 128, 128)  (3, 3, 128, 256)\n",
            "256x256/Skip         32768     (?, 256, 128, 128)  (1, 1, 128, 256)\n",
            "128x128/Conv0        590080    (?, 256, 128, 128)  (3, 3, 256, 256)\n",
            "128x128/Conv1_down   1180160   (?, 512, 64, 64)    (3, 3, 256, 512)\n",
            "128x128/Skip         131072    (?, 512, 64, 64)    (1, 1, 256, 512)\n",
            "64x64/Conv0          2359808   (?, 512, 64, 64)    (3, 3, 512, 512)\n",
            "64x64/Conv1_down     2359808   (?, 512, 32, 32)    (3, 3, 512, 512)\n",
            "64x64/Skip           262144    (?, 512, 32, 32)    (1, 1, 512, 512)\n",
            "32x32/Conv0          2359808   (?, 512, 32, 32)    (3, 3, 512, 512)\n",
            "32x32/Conv1_down     2359808   (?, 512, 16, 16)    (3, 3, 512, 512)\n",
            "32x32/Skip           262144    (?, 512, 16, 16)    (1, 1, 512, 512)\n",
            "16x16/Conv0          2359808   (?, 512, 16, 16)    (3, 3, 512, 512)\n",
            "16x16/Conv1_down     2359808   (?, 512, 8, 8)      (3, 3, 512, 512)\n",
            "16x16/Skip           262144    (?, 512, 8, 8)      (1, 1, 512, 512)\n",
            "8x8/Conv0            2359808   (?, 512, 8, 8)      (3, 3, 512, 512)\n",
            "8x8/Conv1_down       2359808   (?, 512, 4, 4)      (3, 3, 512, 512)\n",
            "8x8/Skip             262144    (?, 512, 4, 4)      (1, 1, 512, 512)\n",
            "4x4/MinibatchStddev  -         (?, 513, 4, 4)      -               \n",
            "4x4/Conv             2364416   (?, 512, 4, 4)      (3, 3, 513, 512)\n",
            "4x4/Dense0           4194816   (?, 512)            (8192, 512)     \n",
            "Output               513       (?, 1)              (512, 1)        \n",
            "---                  ---       ---                 ---             \n",
            "Total                28864129                                      \n",
            "\n",
            "Exporting sample images...\n",
            "Replicating networks across 1 GPUs...\n",
            "Initializing augmentations...\n",
            "Setting up optimizers...\n",
            "Constructing training graph...\n",
            "Finalizing training ops...\n",
            "Initializing metrics...\n",
            "Training for 25000 kimg...\n",
            "\n",
            "tick 0     kimg 0.0      time 1m 09s       sec/tick 18.3    sec/kimg 1141.68 maintenance 51.0   gpumem 5.7   augment 0.000\n",
            "tick 1     kimg 4.0      time 13m 24s      sec/tick 716.2   sec/kimg 179.05  maintenance 19.0   gpumem 5.7   augment 0.019\n",
            "tick 2     kimg 8.0      time 25m 22s      sec/tick 717.8   sec/kimg 179.45  maintenance 0.0    gpumem 5.7   augment 0.030\n",
            "tick 3     kimg 12.0     time 37m 30s      sec/tick 717.6   sec/kimg 179.39  maintenance 10.1   gpumem 5.7   augment 0.046\n",
            "tick 4     kimg 16.0     time 49m 28s      sec/tick 718.2   sec/kimg 179.55  maintenance 0.0    gpumem 5.7   augment 0.062\n",
            "tick 5     kimg 20.0     time 1h 01m 36s   sec/tick 718.3   sec/kimg 179.58  maintenance 9.9    gpumem 5.7   augment 0.076\n",
            "tick 6     kimg 24.0     time 1h 13m 35s   sec/tick 718.6   sec/kimg 179.64  maintenance 0.0    gpumem 5.7   augment 0.090\n",
            "tick 7     kimg 28.0     time 1h 25m 43s   sec/tick 718.6   sec/kimg 179.65  maintenance 9.9    gpumem 5.7   augment 0.101\n",
            "tick 8     kimg 32.0     time 1h 37m 43s   sec/tick 719.3   sec/kimg 179.82  maintenance 0.0    gpumem 5.7   augment 0.116\n",
            "tick 9     kimg 36.0     time 1h 49m 51s   sec/tick 718.0   sec/kimg 179.51  maintenance 10.0   gpumem 5.7   augment 0.128\n",
            "tick 10    kimg 40.0     time 2h 01m 49s   sec/tick 718.8   sec/kimg 179.69  maintenance 0.0    gpumem 5.7   augment 0.136\n",
            "tick 11    kimg 44.0     time 2h 13m 59s   sec/tick 719.6   sec/kimg 179.90  maintenance 9.8    gpumem 5.7   augment 0.148\n",
            "tick 12    kimg 48.0     time 2h 25m 58s   sec/tick 719.3   sec/kimg 179.83  maintenance 0.0    gpumem 5.7   augment 0.155\n",
            "tick 13    kimg 52.0     time 2h 38m 07s   sec/tick 718.7   sec/kimg 179.68  maintenance 9.9    gpumem 5.7   augment 0.158\n",
            "tick 14    kimg 56.0     time 2h 50m 06s   sec/tick 719.3   sec/kimg 179.84  maintenance 0.0    gpumem 5.7   augment 0.166\n",
            "tick 15    kimg 60.0     time 3h 02m 15s   sec/tick 719.3   sec/kimg 179.82  maintenance 9.8    gpumem 5.7   augment 0.176\n",
            "tick 16    kimg 64.0     time 3h 14m 15s   sec/tick 719.3   sec/kimg 179.82  maintenance 0.0    gpumem 5.7   augment 0.179\n",
            "tick 17    kimg 68.0     time 3h 26m 24s   sec/tick 719.3   sec/kimg 179.83  maintenance 10.0   gpumem 5.7   augment 0.182\n",
            "tick 18    kimg 72.0     time 3h 38m 24s   sec/tick 720.5   sec/kimg 180.12  maintenance 0.0    gpumem 5.7   augment 0.189\n",
            "tick 19    kimg 76.0     time 3h 50m 34s   sec/tick 719.3   sec/kimg 179.83  maintenance 10.0   gpumem 5.7   augment 0.191\n",
            "tick 20    kimg 80.0     time 4h 02m 34s   sec/tick 719.9   sec/kimg 179.98  maintenance 0.0    gpumem 5.7   augment 0.196\n",
            "tick 21    kimg 84.0     time 4h 14m 43s   sec/tick 719.5   sec/kimg 179.89  maintenance 10.2   gpumem 5.7   augment 0.205\n",
            "tick 22    kimg 88.0     time 4h 26m 43s   sec/tick 719.7   sec/kimg 179.93  maintenance 0.0    gpumem 5.7   augment 0.207\n",
            "tick 23    kimg 92.0     time 4h 38m 53s   sec/tick 719.6   sec/kimg 179.91  maintenance 10.0   gpumem 5.7   augment 0.211\n",
            "tick 24    kimg 96.0     time 4h 50m 54s   sec/tick 720.7   sec/kimg 180.17  maintenance 0.0    gpumem 5.7   augment 0.212\n",
            "tick 25    kimg 100.0    time 5h 03m 04s   sec/tick 720.0   sec/kimg 180.00  maintenance 10.1   gpumem 5.7   augment 0.219\n",
            "tick 26    kimg 104.0    time 5h 15m 03s   sec/tick 719.8   sec/kimg 179.95  maintenance 0.0    gpumem 5.7   augment 0.226\n",
            "tick 27    kimg 108.0    time 5h 27m 14s   sec/tick 719.6   sec/kimg 179.90  maintenance 10.9   gpumem 5.7   augment 0.231\n",
            "tick 28    kimg 112.0    time 5h 39m 14s   sec/tick 720.1   sec/kimg 180.02  maintenance 0.0    gpumem 5.7   augment 0.236\n",
            "tick 29    kimg 116.0    time 5h 51m 25s   sec/tick 720.5   sec/kimg 180.14  maintenance 10.0   gpumem 5.7   augment 0.240\n",
            "tick 30    kimg 120.0    time 6h 03m 24s   sec/tick 719.8   sec/kimg 179.94  maintenance 0.0    gpumem 5.7   augment 0.243\n"
          ]
        }
      ]
    },
    {
      "cell_type": "markdown",
      "source": [
        "## Display Result"
      ],
      "metadata": {
        "id": "eluUgrbC3MBT"
      }
    },
    {
      "cell_type": "markdown",
      "source": [
        "###Create a gif: from first, second and third training outcome\n",
        "\n",
        "ref: [Imageio document](https://imageio.readthedocs.io/en/stable/examples.html)"
      ],
      "metadata": {
        "id": "Sd_Tej1ZuRWf"
      }
    },
    {
      "cell_type": "code",
      "source": [
        "import imageio\n",
        "import matplotlib.pyplot as plt\n",
        "import matplotlib.image as mpimg"
      ],
      "metadata": {
        "id": "KF50pV5c3PEn"
      },
      "execution_count": null,
      "outputs": []
    },
    {
      "cell_type": "code",
      "source": [
        "datafile_path = '/content/drive/MyDrive/stylegan2-ada-output/output_all'\n",
        "output_file = '/content/drive/MyDrive/stylegan2-ada-output/output_gif/training_all.gif'"
      ],
      "metadata": {
        "id": "pVyVJ-JsuedD"
      },
      "execution_count": null,
      "outputs": []
    },
    {
      "cell_type": "code",
      "source": [
        "files = os.listdir(datafile_path)\n",
        "images_path = [os.path.join(datafile_path,file) for file in files]"
      ],
      "metadata": {
        "id": "vMVJemzzugbC"
      },
      "execution_count": null,
      "outputs": []
    },
    {
      "cell_type": "code",
      "source": [
        "\"\"\"\n",
        "fps are the frames per second\n",
        "1. 16-18 old school movie style\n",
        "2. 24 standard video \n",
        "\n",
        "\"\"\"\n",
        "images = []\n",
        "for img in images_path:\n",
        "    if img.endswith('jpg'):\n",
        "      images.append(imageio.imread(img))\n",
        "imageio.mimsave(output_file, images, fps= 3)"
      ],
      "metadata": {
        "id": "0b1GrDOnujKU"
      },
      "execution_count": null,
      "outputs": []
    },
    {
      "cell_type": "code",
      "source": [
        "img = mpimg.imread(output_file)\n",
        "plt.imshow(img)"
      ],
      "metadata": {
        "colab": {
          "base_uri": "https://localhost:8080/",
          "height": 248
        },
        "id": "_d5mJ7Ktunm8",
        "outputId": "645fb955-2915-49ef-cb22-a2223fee11e4"
      },
      "execution_count": null,
      "outputs": [
        {
          "output_type": "execute_result",
          "data": {
            "text/plain": [
              "<matplotlib.image.AxesImage at 0x7fc39143d650>"
            ]
          },
          "metadata": {},
          "execution_count": 26
        },
        {
          "output_type": "display_data",
          "data": {
            "text/plain": [
              "<Figure size 432x288 with 1 Axes>"
            ],
            "image/png": "[encoded data removed]"
          },
          "metadata": {
            "needs_background": "light"
          }
        }
      ]
    },
    {
      "cell_type": "code",
      "source": [
        ""
      ],
      "metadata": {
        "id": "odr0eH-hzbv4"
      },
      "execution_count": null,
      "outputs": []
    }
  ]
}