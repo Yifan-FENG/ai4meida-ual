{
 "cells": [
  {
   "cell_type": "markdown",
   "id": "d8dc169d",
   "metadata": {},
   "source": [
    "## Create a gif from FlagGAN01 output \n",
    "\n",
    "*Reference: https://imageio.readthedocs.io/en/stable/*\n",
    "\n",
    "### An example of generating gif from DCGAN1000 folder \n",
    "\n",
    "* Data are manually selected from DCAGAN test_01-07 and StyleGAN2 training 1-3, please visit \n",
    "1. [Colab: FlagGAN01-Part One Notebook](https://colab.research.google.com/drive/1SODRk6670HY4V26Be4_A7YkCHXlSGNnR?usp=sharing) \n",
    "2. [Colab: FlagGAN01-Part Two Notebook](https://colab.research.google.com/drive/1KImfZDSffEtrVuPuhPrXQncrWKa5S4q8?usp=sharing)\n",
    "\n",
    "* For datafile and other outcomes, please visit \n",
    "1. [GoogleDrive: FlagGAN01-Part One Outcome](https://drive.google.com/drive/folders/1F4xeTCrMXJARISmJdfAmQD2KYoV8TWJ4?usp=sharing)\n",
    "2. [GoogleDrive: FlagGAN01-Part Two Outcome](https://drive.google.com/drive/folders/1kjYkMsysogk611lZR8jkGb2CWOq9p_mY)\n"
   ]
  },
  {
   "cell_type": "code",
   "execution_count": 26,
   "id": "d4256f17",
   "metadata": {},
   "outputs": [],
   "source": [
    "# install if needed\n",
    "\n",
    "#!pip install imageio\n",
    "#!pip install numpy==1.20\n",
    "#!pip install matplotlib"
   ]
  },
  {
   "cell_type": "code",
   "execution_count": 1,
   "id": "0876c29e",
   "metadata": {},
   "outputs": [],
   "source": [
    "import imageio\n",
    "import os\n",
    "import matplotlib.pyplot as plt\n",
    "import matplotlib.image as mpimg"
   ]
  },
  {
   "cell_type": "code",
   "execution_count": 2,
   "id": "9bd20c9c",
   "metadata": {},
   "outputs": [],
   "source": [
    "datafile_path = '../Downloads/output_all'\n",
    "output_file = '../Downloads/FlagGAN01_final.gif'"
   ]
  },
  {
   "cell_type": "code",
   "execution_count": 3,
   "id": "1714e7ee",
   "metadata": {},
   "outputs": [],
   "source": [
    "files = os.listdir(datafile_path)\n",
    "images_path = [os.path.join(datafile_path,file) for file in files]"
   ]
  },
  {
   "cell_type": "code",
   "execution_count": null,
   "id": "6db9a460",
   "metadata": {},
   "outputs": [],
   "source": [
    "images = []\n",
    "for img in images_path:\n",
    "    if img.endswith('jpg') or img.endswith ('png'): \n",
    "        images.append(imageio.imread(img))\n",
    "imageio.mimsave(output_file, images, fps= 2)"
   ]
  },
  {
   "cell_type": "code",
   "execution_count": null,
   "id": "e7037317",
   "metadata": {},
   "outputs": [],
   "source": [
    "img = mpimg.imread(output_file)\n",
    "plt.imshow(img)"
   ]
  },
  {
   "cell_type": "code",
   "execution_count": null,
   "id": "37fd207a",
   "metadata": {},
   "outputs": [],
   "source": []
  }
 ],
 "metadata": {
  "kernelspec": {
   "display_name": "Python 3 (ipykernel)",
   "language": "python",
   "name": "python3"
  },
  "language_info": {
   "codemirror_mode": {
    "name": "ipython",
    "version": 3
   },
   "file_extension": ".py",
   "mimetype": "text/x-python",
   "name": "python",
   "nbconvert_exporter": "python",
   "pygments_lexer": "ipython3",
   "version": "3.9.7"
  }
 },
 "nbformat": 4,
 "nbformat_minor": 5
}
